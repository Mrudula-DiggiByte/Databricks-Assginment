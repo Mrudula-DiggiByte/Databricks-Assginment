{
 "cells": [
  {
   "cell_type": "code",
   "execution_count": 0,
   "metadata": {
    "application/vnd.databricks.v1+cell": {
     "cellMetadata": {},
     "inputWidgets": {},
     "nuid": "17684153-04a9-4e71-b9da-9241eb03dac3",
     "showTitle": false,
     "tableResultSettingsMap": {},
     "title": ""
    }
   },
   "outputs": [],
   "source": [
    "%run /Workspace/Users/mrudula.r@diggibyte.com/Databricks-Assignment/source_to_bronze/utils\n",
    "     "
   ]
  },
  {
   "cell_type": "code",
   "execution_count": 0,
   "metadata": {
    "application/vnd.databricks.v1+cell": {
     "cellMetadata": {},
     "inputWidgets": {},
     "nuid": "dfa4ac70-a06a-48c7-9142-62a1324746d8",
     "showTitle": false,
     "tableResultSettingsMap": {},
     "title": ""
    }
   },
   "outputs": [],
   "source": [
    "from pyspark.sql.functions import avg, count, desc, col\n",
    "emp_df = spark.read.table(\"assignment.assignment_resources.employee\")\n",
    "emp_df = emp_df.withColumn(\"Salary\", col(\"Salary\").cast(\"double\"))\n",
    "\n",
    "salary_df = emp_df.groupBy(\"DepartmentID\") \\\n",
    "    .sum(\"Salary\") \\\n",
    "    .withColumnRenamed(\"sum(Salary)\", \"total_salary\") \\\n",
    "    .orderBy(desc(\"total_salary\"))\n",
    "\n",
    "salary_df = add_at_load_date(salary_df)\n",
    "salary_df.write.format(\"delta\") \\\n",
    "    .mode(\"overwrite\") \\\n",
    "    .saveAsTable(\"assignment.assignment_resources.salary_by_dept\")\n",
    "\n",
    "\n",
    "dept_df = spark.read.option(\"header\", True).csv(\"/Volumes/assignment/assignment_resources/source/Department-Q1.csv\")\n",
    "country_df = spark.read.option(\"header\", True).csv(\"/Volumes/assignment/assignment_resources/source/Country-Q1 (1).csv\")\n",
    "\n",
    "if \"CountryID\" in emp_df.columns and \"DepartmentID\" in emp_df.columns:\n",
    "    emp_count = emp_df.groupBy(\"DepartmentID\", \"CountryID\") \\\n",
    "        .agg(count(\"*\").alias(\"emp_count\"))\n",
    "\n",
    "    emp_count = add_at_load_date(emp_count)\n",
    "\n",
    "    emp_count.write.format(\"delta\") \\\n",
    "        .mode(\"overwrite\") \\\n",
    "        .saveAsTable(\"assignment.assignment_resources.emp_count\")\n",
    "\n",
    "avg_age = emp_df.groupBy(\"DepartmentID\") \\\n",
    "    .agg(avg(\"Age\").alias(\"avg_age\"))\n",
    "\n",
    "avg_age = add_at_load_date(avg_age)\n",
    "\n",
    "avg_age.write.format(\"delta\") \\\n",
    "    .mode(\"overwrite\") \\\n",
    "    .saveAsTable(\"assignment.assignment_resources.avg_age\")\n",
    "\n",
    "     "
   ]
  }
 ],
 "metadata": {
  "application/vnd.databricks.v1+notebook": {
   "computePreferences": null,
   "dashboards": [],
   "environmentMetadata": {
    "base_environment": "",
    "environment_version": "2"
   },
   "inputWidgetPreferences": null,
   "language": "python",
   "notebookMetadata": {
    "pythonIndentUnit": 4
   },
   "notebookName": "employee_silver_to_gold",
   "widgets": {}
  },
  "language_info": {
   "name": "python"
  }
 },
 "nbformat": 4,
 "nbformat_minor": 0
}
